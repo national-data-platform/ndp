{
 "cells": [
  {
   "cell_type": "markdown",
   "id": "1b5cfc60",
   "metadata": {},
   "source": [
    "# EDA - Compare Runs with Different Input Parameters\n",
    "\n",
    "### Imports"
   ]
  },
  {
   "cell_type": "code",
   "execution_count": null,
   "id": "6bc4f2b9",
   "metadata": {},
   "outputs": [],
   "source": [
    "import numpy as np\n",
    "import json\n",
    "import pandas as pd\n",
    "import matplotlib.pyplot as plt\n",
    "from IPython.display import Image\n",
    "from IPython.core.display import HTML \n",
    "import zarr"
   ]
  },
  {
   "cell_type": "markdown",
   "id": "3858d100",
   "metadata": {},
   "source": [
    "### Load Data"
   ]
  },
  {
   "cell_type": "code",
   "execution_count": null,
   "id": "0f96947e-a929-43c9-a029-ad8eff7f8d7e",
   "metadata": {},
   "outputs": [],
   "source": [
    "runs_df = pd.read_csv('uniform-pgml-success_list_simulation_runs.csv')\n",
    "\n",
    "runs_df.head(3)"
   ]
  },
  {
   "cell_type": "markdown",
   "id": "dbb95f1c-c0e8-4ed7-8787-d04daf03ffb9",
   "metadata": {},
   "source": [
    "#### Explore some data"
   ]
  },
  {
   "cell_type": "code",
   "execution_count": null,
   "id": "c768dc84-d23b-491e-8533-b293a1fb61bd",
   "metadata": {},
   "outputs": [],
   "source": [
    "link = runs_df.loc[0]['link']\n",
    "run_zarr = zarr.open(link)\n",
    "fuels_dens = np.array(run_zarr['fuels-moist'])\n",
    "fuels_dens[600]  # last frame"
   ]
  },
  {
   "cell_type": "markdown",
   "id": "931e4e63-3f66-49ac-86c2-834ee5b75633",
   "metadata": {},
   "source": [
    "#### Vizualize few frames from the first run"
   ]
  },
  {
   "cell_type": "code",
   "execution_count": null,
   "id": "6c769e70-3938-45b4-a664-c462a9c6ca2e",
   "metadata": {
    "scrolled": true
   },
   "outputs": [],
   "source": [
    "fig, axs = plt.subplots(1, 5,figsize=(15,15))\n",
    "times=[20,50,150,300,600]\n",
    "for i, ax in enumerate(axs.flatten()):\n",
    "    ax.imshow(fuels_dens[times[i],0,:,:],cmap='rainbow',origin=\"lower\")\n",
    "fig.tight_layout()\n",
    "plt.show()"
   ]
  },
  {
   "cell_type": "markdown",
   "id": "2e060fa2",
   "metadata": {},
   "source": [
    "## Ensemble info"
   ]
  },
  {
   "cell_type": "code",
   "execution_count": null,
   "id": "004be77f",
   "metadata": {},
   "outputs": [],
   "source": [
    "# input features\n",
    "runs_df.columns"
   ]
  },
  {
   "cell_type": "code",
   "execution_count": null,
   "id": "3509bb50",
   "metadata": {
    "scrolled": true
   },
   "outputs": [],
   "source": [
    "# wind speeds\n",
    "runs_df['wind_speed'].unique()"
   ]
  },
  {
   "cell_type": "code",
   "execution_count": null,
   "id": "49f78f81-66a1-4b8d-8e8c-68057d339b76",
   "metadata": {},
   "outputs": [],
   "source": [
    "# wind directions\n",
    "runs_df['wind_direction'].unique()"
   ]
  },
  {
   "cell_type": "code",
   "execution_count": null,
   "id": "6ae91211-a749-4e34-868a-db625cc699eb",
   "metadata": {},
   "outputs": [],
   "source": [
    "# surface moisture\n",
    "runs_df['surface_moisture'].unique()"
   ]
  },
  {
   "cell_type": "code",
   "execution_count": null,
   "id": "c49fb742-c339-45a2-bb99-fb75a978b872",
   "metadata": {},
   "outputs": [],
   "source": [
    "# ignition types\n",
    "runs_df['ignition_type_metadata'].unique()"
   ]
  },
  {
   "cell_type": "code",
   "execution_count": null,
   "id": "1eedbf67-e338-413c-b11b-0f44e366a9e9",
   "metadata": {},
   "outputs": [],
   "source": [
    "# overall how many simulation runs\n",
    "len(runs_df)"
   ]
  },
  {
   "cell_type": "markdown",
   "id": "3802263a",
   "metadata": {},
   "source": [
    "## Compare Simulation Runs"
   ]
  },
  {
   "cell_type": "code",
   "execution_count": null,
   "id": "1de51ea0",
   "metadata": {},
   "outputs": [],
   "source": [
    "# make a simple list of links\n",
    "runs_list = list(runs_df['link'])\n",
    "runs_list[:3]"
   ]
  },
  {
   "cell_type": "markdown",
   "id": "119b5b5d",
   "metadata": {},
   "source": [
    "##### Input parameters vs fuel moisture"
   ]
  },
  {
   "cell_type": "code",
   "execution_count": null,
   "id": "1e5864d6",
   "metadata": {},
   "outputs": [],
   "source": [
    "def plot_runs(feature_to_plot):\n",
    "    wind_s = runs_df[\"wind_speed\"]\n",
    "    wind_d = runs_df[\"wind_direction\"]\n",
    "    surface_m = runs_df[\"surface_moisture\"]\n",
    "    ignition_t = runs_df[\"ignition_type_metadata\"]\n",
    "    \n",
    "    run_samples = [0,50,250,300,450,600,750,1153]\n",
    "    for run_number in run_samples:\n",
    "        link = runs_list[run_number]\n",
    "        run_zarr = zarr.open(link)\n",
    "        fuels_dens = np.array(run_zarr[feature_to_plot])\n",
    "        fig, axs = plt.subplots(1, 5,figsize=(15,15))\n",
    "        times=[20,50,150,300,600]\n",
    "        print(\"Input Parameters:\\nWind Speed:\",wind_s[run_number],\"Wind Direction:\",wind_d[run_number],\"Surface Moisture:\",surface_m[run_number],\"Ignition:\",ignition_t[run_number],\"\\n\") \n",
    "    \n",
    "        for i, ax in enumerate(axs.flatten()):\n",
    "            ax.set_title(f\"Run #: {run_number}, Time step: t={times[i]}\")\n",
    "            # ax.set_suptitle('s')\n",
    "            ax.imshow(fuels_dens[times[i],0,:,:],cmap='rainbow',origin=\"lower\")\n",
    "        fig.tight_layout()\n",
    "        plt.show()"
   ]
  },
  {
   "cell_type": "code",
   "execution_count": null,
   "id": "3d2b2abd-9e74-4f6d-bf67-fd1cf3253c95",
   "metadata": {},
   "outputs": [],
   "source": [
    "%matplotlib inline\n",
    "plot_runs('fuels-moist')"
   ]
  },
  {
   "cell_type": "markdown",
   "id": "6b67156f",
   "metadata": {},
   "source": [
    "##### Input parameters vs fuel density"
   ]
  },
  {
   "cell_type": "code",
   "execution_count": null,
   "id": "563e9b14",
   "metadata": {},
   "outputs": [],
   "source": [
    "%matplotlib inline\n",
    "plot_runs('fuels-dens')"
   ]
  },
  {
   "cell_type": "code",
   "execution_count": null,
   "id": "defb1054-8896-4d04-a3dd-a83449180654",
   "metadata": {},
   "outputs": [],
   "source": []
  }
 ],
 "metadata": {
  "kernelspec": {
   "display_name": "Python 3 (ipykernel)",
   "language": "python",
   "name": "python3"
  },
  "language_info": {
   "codemirror_mode": {
    "name": "ipython",
    "version": 3
   },
   "file_extension": ".py",
   "mimetype": "text/x-python",
   "name": "python",
   "nbconvert_exporter": "python",
   "pygments_lexer": "ipython3",
   "version": "3.9.6"
  }
 },
 "nbformat": 4,
 "nbformat_minor": 5
}
