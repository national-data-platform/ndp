{
 "cells": [
  {
   "cell_type": "markdown",
   "metadata": {},
   "source": [
    "# Dataset Search Using Catalog API"
   ]
  },
  {
   "cell_type": "markdown",
   "metadata": {},
   "source": [
    "This notebook demonstrates how to search for datasets in NDP Catalog using the\n",
    "<a href = \"https://github.com/ckan/ckanapi\">ckan api </a>. Detailed query syntax examples can be found in the <a href = \"https://solr.apache.org/guide/6_6/common-query-parameters.html\">SOLR </a> documentation."
   ]
  },
  {
   "cell_type": "code",
   "execution_count": 1,
   "metadata": {},
   "outputs": [],
   "source": [
    "import requests"
   ]
  },
  {
   "cell_type": "code",
   "execution_count": 13,
   "metadata": {},
   "outputs": [],
   "source": [
    "# Set catalog API URL\n",
    "url = 'https://ndp.sdsc.edu/catalog/api/3/action/'"
   ]
  },
  {
   "cell_type": "markdown",
   "metadata": {},
   "source": [
    "### Search Dataset by Organization"
   ]
  },
  {
   "cell_type": "code",
   "execution_count": 3,
   "metadata": {},
   "outputs": [
    {
     "data": {
      "text/plain": [
       "['burnpro3d', 'earthscope_consortium', 'trpa', 'u-s-fish-wildlife-service']"
      ]
     },
     "execution_count": 3,
     "metadata": {},
     "output_type": "execute_result"
    }
   ],
   "source": [
    "# Get organizations list\n",
    "endpoint = 'organization_list'\n",
    "requests.get(url+endpoint).json()['result']"
   ]
  },
  {
   "cell_type": "code",
   "execution_count": 4,
   "metadata": {},
   "outputs": [
    {
     "data": {
      "text/plain": [
       "2"
      ]
     },
     "execution_count": 4,
     "metadata": {},
     "output_type": "execute_result"
    }
   ],
   "source": [
    "# Search Datasets by Organization Name\n",
    "organization='burnpro3d'\n",
    "endpoint = f'package_search?q=organization:{organization}'\n",
    "response_result = requests.get(url+endpoint).json()['result']\n",
    "response_result['count']"
   ]
  },
  {
   "cell_type": "code",
   "execution_count": 5,
   "metadata": {},
   "outputs": [
    {
     "data": {
      "text/plain": [
       "'uniform-ensemble'"
      ]
     },
     "execution_count": 5,
     "metadata": {},
     "output_type": "execute_result"
    }
   ],
   "source": [
    "response_result['results'][1]['name']"
   ]
  },
  {
   "cell_type": "code",
   "execution_count": 6,
   "metadata": {},
   "outputs": [
    {
     "data": {
      "text/plain": [
       "[{'cache_last_updated': None,\n",
       "  'cache_url': None,\n",
       "  'created': '2024-01-12T02:00:05.045199',\n",
       "  'datastore_active': False,\n",
       "  'description': None,\n",
       "  'format': '',\n",
       "  'hash': '',\n",
       "  'id': '2ae7f8aa-14ab-44c7-aff8-7dd44fa552c6',\n",
       "  'last_modified': '2024-01-12T02:00:04.993689',\n",
       "  'metadata_modified': '2024-01-12T02:00:05.253991',\n",
       "  'mimetype': None,\n",
       "  'mimetype_inner': None,\n",
       "  'name': 'Ignite_Aerial.dat',\n",
       "  'package_id': '042fa632-47fe-4f6c-9717-cd3f57553da5',\n",
       "  'position': 0,\n",
       "  'resource_type': None,\n",
       "  'size': 2030,\n",
       "  'state': 'active',\n",
       "  'url': 'https://ndp.sdsc.edu/catalog/dataset/042fa632-47fe-4f6c-9717-cd3f57553da5/resource/2ae7f8aa-14ab-44c7-aff8-7dd44fa552c6/download/ignite_aerial.dat',\n",
       "  'url_type': 'upload'},\n",
       " {'cache_last_updated': None,\n",
       "  'cache_url': None,\n",
       "  'created': '2024-01-12T02:00:05.264425',\n",
       "  'datastore_active': False,\n",
       "  'description': None,\n",
       "  'format': '',\n",
       "  'hash': '',\n",
       "  'id': '55183888-5ad3-4860-ba22-dec0b2ffaa48',\n",
       "  'last_modified': '2024-01-12T02:00:05.240986',\n",
       "  'metadata_modified': '2024-01-12T02:00:05.460835',\n",
       "  'mimetype': None,\n",
       "  'mimetype_inner': None,\n",
       "  'name': 'Ignite_LongFireline_Inwards.dat',\n",
       "  'package_id': '042fa632-47fe-4f6c-9717-cd3f57553da5',\n",
       "  'position': 1,\n",
       "  'resource_type': None,\n",
       "  'size': 198,\n",
       "  'state': 'active',\n",
       "  'url': 'https://ndp.sdsc.edu/catalog/dataset/042fa632-47fe-4f6c-9717-cd3f57553da5/resource/55183888-5ad3-4860-ba22-dec0b2ffaa48/download/ignite_longfireline_inwards.dat',\n",
       "  'url_type': 'upload'},\n",
       " {'cache_last_updated': None,\n",
       "  'cache_url': None,\n",
       "  'created': '2024-01-12T02:00:05.470257',\n",
       "  'datastore_active': False,\n",
       "  'description': None,\n",
       "  'format': '',\n",
       "  'hash': '',\n",
       "  'id': '988f623c-8cc7-4611-b06e-3321d37f1bed',\n",
       "  'last_modified': '2024-01-12T02:00:05.449021',\n",
       "  'metadata_modified': '2024-01-12T02:00:05.685670',\n",
       "  'mimetype': None,\n",
       "  'mimetype_inner': None,\n",
       "  'name': 'Ignite_LongFireline_Outwards.dat',\n",
       "  'package_id': '042fa632-47fe-4f6c-9717-cd3f57553da5',\n",
       "  'position': 2,\n",
       "  'resource_type': None,\n",
       "  'size': 198,\n",
       "  'state': 'active',\n",
       "  'url': 'https://ndp.sdsc.edu/catalog/dataset/042fa632-47fe-4f6c-9717-cd3f57553da5/resource/988f623c-8cc7-4611-b06e-3321d37f1bed/download/ignite_longfireline_outwards.dat',\n",
       "  'url_type': 'upload'},\n",
       " {'cache_last_updated': None,\n",
       "  'cache_url': None,\n",
       "  'created': '2024-01-12T02:00:05.700676',\n",
       "  'datastore_active': False,\n",
       "  'description': None,\n",
       "  'format': '',\n",
       "  'hash': '',\n",
       "  'id': 'aaffeb65-f7f3-43f4-84ad-ab1e657cabcf',\n",
       "  'last_modified': '2024-01-12T02:00:05.648503',\n",
       "  'metadata_modified': '2024-01-12T02:00:05.953184',\n",
       "  'mimetype': None,\n",
       "  'mimetype_inner': None,\n",
       "  'name': 'Ignite_Strip_Northwards.dat',\n",
       "  'package_id': '042fa632-47fe-4f6c-9717-cd3f57553da5',\n",
       "  'position': 3,\n",
       "  'resource_type': None,\n",
       "  'size': 291,\n",
       "  'state': 'active',\n",
       "  'url': 'https://ndp.sdsc.edu/catalog/dataset/042fa632-47fe-4f6c-9717-cd3f57553da5/resource/aaffeb65-f7f3-43f4-84ad-ab1e657cabcf/download/ignite_strip_northwards.dat',\n",
       "  'url_type': 'upload'},\n",
       " {'cache_last_updated': None,\n",
       "  'cache_url': None,\n",
       "  'created': '2024-01-12T02:00:05.968445',\n",
       "  'datastore_active': False,\n",
       "  'description': None,\n",
       "  'format': '',\n",
       "  'hash': '',\n",
       "  'id': '701c871f-5698-4ba7-a901-1f242ff40546',\n",
       "  'last_modified': '2024-01-12T02:00:05.928159',\n",
       "  'metadata_modified': '2024-01-12T02:00:06.179252',\n",
       "  'mimetype': None,\n",
       "  'mimetype_inner': None,\n",
       "  'name': 'Ignite_Strip_Southwards.dat',\n",
       "  'package_id': '042fa632-47fe-4f6c-9717-cd3f57553da5',\n",
       "  'position': 4,\n",
       "  'resource_type': None,\n",
       "  'size': 291,\n",
       "  'state': 'active',\n",
       "  'url': 'https://ndp.sdsc.edu/catalog/dataset/042fa632-47fe-4f6c-9717-cd3f57553da5/resource/701c871f-5698-4ba7-a901-1f242ff40546/download/ignite_strip_southwards.dat',\n",
       "  'url_type': 'upload'},\n",
       " {'cache_last_updated': None,\n",
       "  'cache_url': None,\n",
       "  'created': '2024-01-12T02:00:06.189799',\n",
       "  'datastore_active': False,\n",
       "  'description': None,\n",
       "  'format': 'JSON',\n",
       "  'hash': '',\n",
       "  'id': 'c060c3f2-03c4-49e0-a34c-9aee87f2dea4',\n",
       "  'last_modified': '2024-01-12T02:00:06.161837',\n",
       "  'metadata_modified': '2024-01-12T02:00:06.434101',\n",
       "  'mimetype': 'application/json',\n",
       "  'mimetype_inner': None,\n",
       "  'name': 'uniform-pgml-success.bp3d.json',\n",
       "  'package_id': '042fa632-47fe-4f6c-9717-cd3f57553da5',\n",
       "  'position': 5,\n",
       "  'resource_type': None,\n",
       "  'size': 1395709,\n",
       "  'state': 'active',\n",
       "  'url': 'https://ndp.sdsc.edu/catalog/dataset/042fa632-47fe-4f6c-9717-cd3f57553da5/resource/c060c3f2-03c4-49e0-a34c-9aee87f2dea4/download/uniform-pgml-success.bp3d.json',\n",
       "  'url_type': 'upload'},\n",
       " {'cache_last_updated': None,\n",
       "  'cache_url': None,\n",
       "  'created': '2024-01-12T02:00:06.450109',\n",
       "  'datastore_active': True,\n",
       "  'description': None,\n",
       "  'format': 'CSV',\n",
       "  'hash': '',\n",
       "  'id': '9446d035-98b5-410e-a8c8-ca51e25af46f',\n",
       "  'last_modified': '2024-01-12T02:00:06.402497',\n",
       "  'metadata_modified': '2024-01-12T02:00:06.434408',\n",
       "  'mimetype': 'text/csv',\n",
       "  'mimetype_inner': None,\n",
       "  'name': 'uniform-pgml-success_list_simulation_runs.csv',\n",
       "  'package_id': '042fa632-47fe-4f6c-9717-cd3f57553da5',\n",
       "  'position': 6,\n",
       "  'resource_type': None,\n",
       "  'size': 213467,\n",
       "  'state': 'active',\n",
       "  'url': 'https://ndp.sdsc.edu/catalog/dataset/042fa632-47fe-4f6c-9717-cd3f57553da5/resource/9446d035-98b5-410e-a8c8-ca51e25af46f/download/uniform-pgml-success_list_simulation_runs.csv',\n",
       "  'url_type': 'upload'}]"
      ]
     },
     "execution_count": 6,
     "metadata": {},
     "output_type": "execute_result"
    }
   ],
   "source": [
    "response_result['results'][1]['resources']"
   ]
  },
  {
   "cell_type": "markdown",
   "metadata": {},
   "source": [
    "### Search Datasets by Tag"
   ]
  },
  {
   "cell_type": "code",
   "execution_count": 7,
   "metadata": {},
   "outputs": [
    {
     "data": {
      "text/plain": [
       "['Castor canadensis',\n",
       " 'GLNFH',\n",
       " 'NFH',\n",
       " 'Range map',\n",
       " 'wind energy',\n",
       " 'Upper Colorado River basin',\n",
       " 'Northern Long-eared bat',\n",
       " 'regions',\n",
       " 'Gulf Coast Joint Venture',\n",
       " 'Bexar County']"
      ]
     },
     "execution_count": 7,
     "metadata": {},
     "output_type": "execute_result"
    }
   ],
   "source": [
    "# Get tags list\n",
    "endpoint = 'tag_list'\n",
    "requests.get(url+endpoint).json()['result'][:10]"
   ]
  },
  {
   "cell_type": "code",
   "execution_count": 8,
   "metadata": {},
   "outputs": [
    {
     "data": {
      "text/plain": [
       "1"
      ]
     },
     "execution_count": 8,
     "metadata": {},
     "output_type": "execute_result"
    }
   ],
   "source": [
    "# Search Datasets by Organization Name\n",
    "tag='Geodetic'\n",
    "endpoint = f'package_search?q=tags:{tag}'\n",
    "response_result = requests.get(url+endpoint).json()['result']\n",
    "response_result['count']"
   ]
  },
  {
   "cell_type": "code",
   "execution_count": 9,
   "metadata": {},
   "outputs": [
    {
     "data": {
      "text/plain": [
       "'earthscope_stations'"
      ]
     },
     "execution_count": 9,
     "metadata": {},
     "output_type": "execute_result"
    }
   ],
   "source": [
    "response_result['results'][0]['name']"
   ]
  },
  {
   "cell_type": "code",
   "execution_count": 10,
   "metadata": {},
   "outputs": [
    {
     "data": {
      "text/plain": [
       "[{'cache_last_updated': None,\n",
       "  'cache_url': None,\n",
       "  'created': '2024-01-12T02:00:08.501700',\n",
       "  'datastore_active': False,\n",
       "  'description': None,\n",
       "  'format': 'CSV',\n",
       "  'hash': '',\n",
       "  'id': '984ac4f0-80f5-448b-8840-966e3a3f13d3',\n",
       "  'last_modified': '2024-01-12T02:00:08.475103',\n",
       "  'metadata_modified': '2024-01-12T02:00:08.492137',\n",
       "  'mimetype': 'text/csv',\n",
       "  'mimetype_inner': None,\n",
       "  'name': 'earthscope_converted_data.csv',\n",
       "  'package_id': 'd48da25d-5a49-438e-ad88-26f13626a7fd',\n",
       "  'position': 0,\n",
       "  'resource_type': None,\n",
       "  'size': 153082,\n",
       "  'state': 'active',\n",
       "  'url': 'https://ndp.sdsc.edu/catalog/dataset/d48da25d-5a49-438e-ad88-26f13626a7fd/resource/984ac4f0-80f5-448b-8840-966e3a3f13d3/download/earthscope_converted_data.csv',\n",
       "  'url_type': 'upload'}]"
      ]
     },
     "execution_count": 10,
     "metadata": {},
     "output_type": "execute_result"
    }
   ],
   "source": [
    "response_result['results'][0]['resources']"
   ]
  },
  {
   "cell_type": "markdown",
   "metadata": {},
   "source": [
    "### Combined Search"
   ]
  },
  {
   "cell_type": "code",
   "execution_count": 11,
   "metadata": {},
   "outputs": [
    {
     "data": {
      "text/plain": [
       "1"
      ]
     },
     "execution_count": 11,
     "metadata": {},
     "output_type": "execute_result"
    }
   ],
   "source": [
    "organization='burnpro3d'\n",
    "tag='Quicfire'\n",
    "endpoint = f'package_search?q=organization:{organization} tags:{tag}'\n",
    "response_result = requests.get(url+endpoint).json()['result']\n",
    "response_result['count']"
   ]
  },
  {
   "cell_type": "code",
   "execution_count": 12,
   "metadata": {},
   "outputs": [
    {
     "data": {
      "text/plain": [
       "[{'cache_last_updated': None,\n",
       "  'cache_url': None,\n",
       "  'created': '2024-01-12T02:00:07.346324',\n",
       "  'datastore_active': True,\n",
       "  'description': None,\n",
       "  'format': 'CSV',\n",
       "  'hash': '',\n",
       "  'id': '05a59787-7bb6-437d-902a-6384e58488a9',\n",
       "  'last_modified': '2024-01-12T02:00:07.310300',\n",
       "  'metadata_modified': '2024-01-12T02:00:07.329440',\n",
       "  'mimetype': 'text/csv',\n",
       "  'mimetype_inner': None,\n",
       "  'name': 'St._Mary_large_ensemble.csv',\n",
       "  'package_id': 'fbd2efec-d7b0-4def-b166-7bbd95565adc',\n",
       "  'position': 0,\n",
       "  'resource_type': None,\n",
       "  'size': 30839,\n",
       "  'state': 'active',\n",
       "  'url': 'https://ndp.sdsc.edu/catalog/dataset/fbd2efec-d7b0-4def-b166-7bbd95565adc/resource/05a59787-7bb6-437d-902a-6384e58488a9/download/st._mary_large_ensemble.csv',\n",
       "  'url_type': 'upload'}]"
      ]
     },
     "execution_count": 12,
     "metadata": {},
     "output_type": "execute_result"
    }
   ],
   "source": [
    "response_result['results'][0]['resources']"
   ]
  },
  {
   "cell_type": "code",
   "execution_count": null,
   "metadata": {},
   "outputs": [],
   "source": []
  }
 ],
 "metadata": {
  "kernelspec": {
   "display_name": "Python 3 (ipykernel)",
   "language": "python",
   "name": "python3"
  },
  "language_info": {
   "codemirror_mode": {
    "name": "ipython",
    "version": 3
   },
   "file_extension": ".py",
   "mimetype": "text/x-python",
   "name": "python",
   "nbconvert_exporter": "python",
   "pygments_lexer": "ipython3",
   "version": "3.11.6"
  }
 },
 "nbformat": 4,
 "nbformat_minor": 4
}
